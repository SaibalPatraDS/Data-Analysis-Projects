{
 "cells": [
  {
   "cell_type": "markdown",
   "id": "b5b178f2-d843-4079-83b5-87f7ecd459c3",
   "metadata": {},
   "source": [
    "# UBER Data Analysis"
   ]
  },
  {
   "cell_type": "markdown",
   "id": "e38ee16f-b47e-4ff3-a949-097553618225",
   "metadata": {},
   "source": [
    "## 1. Importing libraries and loading data\n",
    "\n",
    "**Data Source : https://www.nyc.gov/assets/tlc/downloads/pdf/data_dictionary_trip_records_yellow.pdf**"
   ]
  },
  {
   "cell_type": "code",
   "execution_count": 15,
   "id": "1c0defd6",
   "metadata": {},
   "outputs": [],
   "source": [
    "import pandas as pd  \n",
    "import numpy as np "
   ]
  },
  {
   "cell_type": "code",
   "execution_count": 16,
   "id": "2ff6afad",
   "metadata": {},
   "outputs": [],
   "source": [
    "data = pd.read_csv(r\"C:\\Users\\saiba\\OneDrive - nsut.ac.in\\Uber Data Analysis\\data\\uber_data.csv\")"
   ]
  },
  {
   "cell_type": "code",
   "execution_count": 17,
   "id": "f0c156e6-f1f3-4620-a042-3ce2ae0c549f",
   "metadata": {},
   "outputs": [],
   "source": [
    "pd.set_option(\"display.max_rows\", 10000)\n",
    "pd.set_option(\"display.max_columns\", 25)"
   ]
  },
  {
   "cell_type": "code",
   "execution_count": 18,
   "id": "5adca3d0",
   "metadata": {},
   "outputs": [
    {
     "data": {
      "text/html": [
       "<div>\n",
       "<style scoped>\n",
       "    .dataframe tbody tr th:only-of-type {\n",
       "        vertical-align: middle;\n",
       "    }\n",
       "\n",
       "    .dataframe tbody tr th {\n",
       "        vertical-align: top;\n",
       "    }\n",
       "\n",
       "    .dataframe thead th {\n",
       "        text-align: right;\n",
       "    }\n",
       "</style>\n",
       "<table border=\"1\" class=\"dataframe\">\n",
       "  <thead>\n",
       "    <tr style=\"text-align: right;\">\n",
       "      <th></th>\n",
       "      <th>VendorID</th>\n",
       "      <th>tpep_pickup_datetime</th>\n",
       "      <th>tpep_dropoff_datetime</th>\n",
       "      <th>passenger_count</th>\n",
       "      <th>trip_distance</th>\n",
       "      <th>pickup_longitude</th>\n",
       "      <th>pickup_latitude</th>\n",
       "      <th>RatecodeID</th>\n",
       "      <th>store_and_fwd_flag</th>\n",
       "      <th>dropoff_longitude</th>\n",
       "      <th>dropoff_latitude</th>\n",
       "      <th>payment_type</th>\n",
       "      <th>fare_amount</th>\n",
       "      <th>extra</th>\n",
       "      <th>mta_tax</th>\n",
       "      <th>tip_amount</th>\n",
       "      <th>tolls_amount</th>\n",
       "      <th>improvement_surcharge</th>\n",
       "      <th>total_amount</th>\n",
       "    </tr>\n",
       "  </thead>\n",
       "  <tbody>\n",
       "    <tr>\n",
       "      <th>0</th>\n",
       "      <td>1</td>\n",
       "      <td>01-03-2016 00:00</td>\n",
       "      <td>01-03-2016 00:07</td>\n",
       "      <td>1</td>\n",
       "      <td>2.50</td>\n",
       "      <td>-73.976746</td>\n",
       "      <td>40.765152</td>\n",
       "      <td>1</td>\n",
       "      <td>N</td>\n",
       "      <td>-74.004265</td>\n",
       "      <td>40.746128</td>\n",
       "      <td>1</td>\n",
       "      <td>9.0</td>\n",
       "      <td>0.5</td>\n",
       "      <td>0.5</td>\n",
       "      <td>2.05</td>\n",
       "      <td>0.00</td>\n",
       "      <td>0.3</td>\n",
       "      <td>12.35</td>\n",
       "    </tr>\n",
       "    <tr>\n",
       "      <th>1</th>\n",
       "      <td>1</td>\n",
       "      <td>01-03-2016 00:00</td>\n",
       "      <td>01-03-2016 00:11</td>\n",
       "      <td>1</td>\n",
       "      <td>2.90</td>\n",
       "      <td>-73.983482</td>\n",
       "      <td>40.767925</td>\n",
       "      <td>1</td>\n",
       "      <td>N</td>\n",
       "      <td>-74.005943</td>\n",
       "      <td>40.733166</td>\n",
       "      <td>1</td>\n",
       "      <td>11.0</td>\n",
       "      <td>0.5</td>\n",
       "      <td>0.5</td>\n",
       "      <td>3.05</td>\n",
       "      <td>0.00</td>\n",
       "      <td>0.3</td>\n",
       "      <td>15.35</td>\n",
       "    </tr>\n",
       "    <tr>\n",
       "      <th>2</th>\n",
       "      <td>2</td>\n",
       "      <td>01-03-2016 00:00</td>\n",
       "      <td>01-03-2016 00:31</td>\n",
       "      <td>2</td>\n",
       "      <td>19.98</td>\n",
       "      <td>-73.782021</td>\n",
       "      <td>40.644810</td>\n",
       "      <td>1</td>\n",
       "      <td>N</td>\n",
       "      <td>-73.974541</td>\n",
       "      <td>40.675770</td>\n",
       "      <td>1</td>\n",
       "      <td>54.5</td>\n",
       "      <td>0.5</td>\n",
       "      <td>0.5</td>\n",
       "      <td>8.00</td>\n",
       "      <td>0.00</td>\n",
       "      <td>0.3</td>\n",
       "      <td>63.80</td>\n",
       "    </tr>\n",
       "    <tr>\n",
       "      <th>3</th>\n",
       "      <td>2</td>\n",
       "      <td>01-03-2016 00:00</td>\n",
       "      <td>01-03-2016 00:00</td>\n",
       "      <td>3</td>\n",
       "      <td>10.78</td>\n",
       "      <td>-73.863419</td>\n",
       "      <td>40.769814</td>\n",
       "      <td>1</td>\n",
       "      <td>N</td>\n",
       "      <td>-73.969650</td>\n",
       "      <td>40.757767</td>\n",
       "      <td>1</td>\n",
       "      <td>31.5</td>\n",
       "      <td>0.0</td>\n",
       "      <td>0.5</td>\n",
       "      <td>3.78</td>\n",
       "      <td>5.54</td>\n",
       "      <td>0.3</td>\n",
       "      <td>41.62</td>\n",
       "    </tr>\n",
       "    <tr>\n",
       "      <th>4</th>\n",
       "      <td>2</td>\n",
       "      <td>01-03-2016 00:00</td>\n",
       "      <td>01-03-2016 00:00</td>\n",
       "      <td>5</td>\n",
       "      <td>30.43</td>\n",
       "      <td>-73.971741</td>\n",
       "      <td>40.792183</td>\n",
       "      <td>3</td>\n",
       "      <td>N</td>\n",
       "      <td>-74.177170</td>\n",
       "      <td>40.695053</td>\n",
       "      <td>1</td>\n",
       "      <td>98.0</td>\n",
       "      <td>0.0</td>\n",
       "      <td>0.0</td>\n",
       "      <td>0.00</td>\n",
       "      <td>15.50</td>\n",
       "      <td>0.3</td>\n",
       "      <td>113.80</td>\n",
       "    </tr>\n",
       "  </tbody>\n",
       "</table>\n",
       "</div>"
      ],
      "text/plain": [
       "   VendorID tpep_pickup_datetime tpep_dropoff_datetime  passenger_count  \\\n",
       "0         1     01-03-2016 00:00      01-03-2016 00:07                1   \n",
       "1         1     01-03-2016 00:00      01-03-2016 00:11                1   \n",
       "2         2     01-03-2016 00:00      01-03-2016 00:31                2   \n",
       "3         2     01-03-2016 00:00      01-03-2016 00:00                3   \n",
       "4         2     01-03-2016 00:00      01-03-2016 00:00                5   \n",
       "\n",
       "   trip_distance  pickup_longitude  pickup_latitude  RatecodeID  \\\n",
       "0           2.50        -73.976746        40.765152           1   \n",
       "1           2.90        -73.983482        40.767925           1   \n",
       "2          19.98        -73.782021        40.644810           1   \n",
       "3          10.78        -73.863419        40.769814           1   \n",
       "4          30.43        -73.971741        40.792183           3   \n",
       "\n",
       "  store_and_fwd_flag  dropoff_longitude  dropoff_latitude  payment_type  \\\n",
       "0                  N         -74.004265         40.746128             1   \n",
       "1                  N         -74.005943         40.733166             1   \n",
       "2                  N         -73.974541         40.675770             1   \n",
       "3                  N         -73.969650         40.757767             1   \n",
       "4                  N         -74.177170         40.695053             1   \n",
       "\n",
       "   fare_amount  extra  mta_tax  tip_amount  tolls_amount  \\\n",
       "0          9.0    0.5      0.5        2.05          0.00   \n",
       "1         11.0    0.5      0.5        3.05          0.00   \n",
       "2         54.5    0.5      0.5        8.00          0.00   \n",
       "3         31.5    0.0      0.5        3.78          5.54   \n",
       "4         98.0    0.0      0.0        0.00         15.50   \n",
       "\n",
       "   improvement_surcharge  total_amount  \n",
       "0                    0.3         12.35  \n",
       "1                    0.3         15.35  \n",
       "2                    0.3         63.80  \n",
       "3                    0.3         41.62  \n",
       "4                    0.3        113.80  "
      ]
     },
     "execution_count": 18,
     "metadata": {},
     "output_type": "execute_result"
    }
   ],
   "source": [
    "data.head()"
   ]
  },
  {
   "cell_type": "code",
   "execution_count": null,
   "id": "5e088e57",
   "metadata": {},
   "outputs": [],
   "source": []
  },
  {
   "cell_type": "markdown",
   "id": "15641d98-5a07-4dcf-9bd4-76608e16ad49",
   "metadata": {},
   "source": [
    "## 2. EDA"
   ]
  },
  {
   "cell_type": "code",
   "execution_count": 19,
   "id": "5c71afcb-f450-49e7-8a64-48e0bbcc46ca",
   "metadata": {},
   "outputs": [
    {
     "name": "stdout",
     "output_type": "stream",
     "text": [
      "<class 'pandas.core.frame.DataFrame'>\n",
      "RangeIndex: 100000 entries, 0 to 99999\n",
      "Data columns (total 19 columns):\n",
      " #   Column                 Non-Null Count   Dtype  \n",
      "---  ------                 --------------   -----  \n",
      " 0   VendorID               100000 non-null  int64  \n",
      " 1   tpep_pickup_datetime   100000 non-null  object \n",
      " 2   tpep_dropoff_datetime  100000 non-null  object \n",
      " 3   passenger_count        100000 non-null  int64  \n",
      " 4   trip_distance          100000 non-null  float64\n",
      " 5   pickup_longitude       100000 non-null  float64\n",
      " 6   pickup_latitude        100000 non-null  float64\n",
      " 7   RatecodeID             100000 non-null  int64  \n",
      " 8   store_and_fwd_flag     100000 non-null  object \n",
      " 9   dropoff_longitude      100000 non-null  float64\n",
      " 10  dropoff_latitude       100000 non-null  float64\n",
      " 11  payment_type           100000 non-null  int64  \n",
      " 12  fare_amount            100000 non-null  float64\n",
      " 13  extra                  100000 non-null  float64\n",
      " 14  mta_tax                100000 non-null  float64\n",
      " 15  tip_amount             100000 non-null  float64\n",
      " 16  tolls_amount           100000 non-null  float64\n",
      " 17  improvement_surcharge  100000 non-null  float64\n",
      " 18  total_amount           100000 non-null  float64\n",
      "dtypes: float64(12), int64(4), object(3)\n",
      "memory usage: 14.5+ MB\n"
     ]
    }
   ],
   "source": [
    "data.info()"
   ]
  },
  {
   "cell_type": "code",
   "execution_count": 20,
   "id": "aa0aa2ad-c1b5-41b1-8f85-6c6a08f39380",
   "metadata": {},
   "outputs": [],
   "source": [
    "## changing timeline to datettime object\n",
    "data['tpep_pickup_datetime'] = pd.to_datetime(data['tpep_pickup_datetime'])\n",
    "data['tpep_dropoff_datetime'] = pd.to_datetime(data['tpep_dropoff_datetime'])"
   ]
  },
  {
   "cell_type": "code",
   "execution_count": 21,
   "id": "038057cc-843a-42a0-ba9c-e0880eabe6fc",
   "metadata": {},
   "outputs": [],
   "source": [
    "## changing `VendorID` to categorical format\n",
    "data.loc[data.VendorID == 1, 'VendorID'] = 'Creative Mobile Technologies'\n",
    "data.loc[data.VendorID == 2, 'VendorID'] = ' VeriFone Inc.'"
   ]
  },
  {
   "cell_type": "code",
   "execution_count": 22,
   "id": "3ad068e7-f422-48ba-bed8-1a65127f007f",
   "metadata": {},
   "outputs": [
    {
     "data": {
      "text/plain": [
       "2"
      ]
     },
     "execution_count": 22,
     "metadata": {},
     "output_type": "execute_result"
    }
   ],
   "source": [
    "data.VendorID.nunique()"
   ]
  },
  {
   "cell_type": "code",
   "execution_count": 23,
   "id": "5c16cc93-604c-4021-a5e2-b2aaa633dd1e",
   "metadata": {},
   "outputs": [
    {
     "data": {
      "text/plain": [
       "array(['Creative Mobile Technologies', ' VeriFone Inc.'], dtype=object)"
      ]
     },
     "execution_count": 23,
     "metadata": {},
     "output_type": "execute_result"
    }
   ],
   "source": [
    "data.VendorID.unique()"
   ]
  },
  {
   "cell_type": "code",
   "execution_count": 24,
   "id": "65a301c3-cc4b-41ae-8066-c46f24e43f2e",
   "metadata": {},
   "outputs": [
    {
     "data": {
      "text/plain": [
       "array([1, 3, 2, 5, 4, 6], dtype=int64)"
      ]
     },
     "execution_count": 24,
     "metadata": {},
     "output_type": "execute_result"
    }
   ],
   "source": [
    "data.RatecodeID.unique()"
   ]
  },
  {
   "cell_type": "code",
   "execution_count": 25,
   "id": "b6f59eb0-5313-4dd6-bd46-6f0a4d508a32",
   "metadata": {},
   "outputs": [],
   "source": [
    "## changing RateCodeID to categorical format\n",
    "data.loc[data.RatecodeID == 1, 'RatecodeID'] = 'Standard rate'\n",
    "data.loc[data.RatecodeID == 2, 'RatecodeID'] = 'JFK'\n",
    "data.loc[data.RatecodeID == 3, 'RatecodeID'] = 'Newark'\n",
    "data.loc[data.RatecodeID == 4, 'RatecodeID'] = 'Nassau or Westchester'\n",
    "data.loc[data.RatecodeID == 5, 'RatecodeID'] = 'Negotiated fare'\n",
    "data.loc[data.RatecodeID == 6, 'RatecodeID'] = 'Group ride'"
   ]
  },
  {
   "cell_type": "code",
   "execution_count": 26,
   "id": "2addfb08-d34a-405b-81ac-622f0ec5396e",
   "metadata": {},
   "outputs": [
    {
     "data": {
      "text/plain": [
       "array(['Standard rate', 'Newark', 'JFK', 'Negotiated fare',\n",
       "       'Nassau or Westchester', 'Group ride'], dtype=object)"
      ]
     },
     "execution_count": 26,
     "metadata": {},
     "output_type": "execute_result"
    }
   ],
   "source": [
    "data.RatecodeID.unique()"
   ]
  },
  {
   "cell_type": "code",
   "execution_count": 29,
   "id": "1cc210a1-eb39-42c6-912e-cafda9ceae7b",
   "metadata": {},
   "outputs": [
    {
     "data": {
      "text/plain": [
       "array(['N', 'Y'], dtype=object)"
      ]
     },
     "execution_count": 29,
     "metadata": {},
     "output_type": "execute_result"
    }
   ],
   "source": [
    "data.store_and_fwd_flag.unique()"
   ]
  },
  {
   "cell_type": "markdown",
   "id": "55f57fab-df22-48d6-8840-27331a300014",
   "metadata": {},
   "source": [
    "**Here `N` stands for  `not a store and forward trip` \n",
    "and `Y` stands for `store and forward trip`**"
   ]
  },
  {
   "cell_type": "code",
   "execution_count": 30,
   "id": "d69f5829-c2b6-48a8-8d31-ead6f6dafd54",
   "metadata": {},
   "outputs": [
    {
     "data": {
      "text/plain": [
       "array([1, 2, 3, 4], dtype=int64)"
      ]
     },
     "execution_count": 30,
     "metadata": {},
     "output_type": "execute_result"
    }
   ],
   "source": [
    "## payment type\n",
    "\n",
    "data.payment_type.unique()"
   ]
  },
  {
   "cell_type": "code",
   "execution_count": 31,
   "id": "af849c4c-9b85-4dcb-9dc1-fd4d66912e46",
   "metadata": {},
   "outputs": [],
   "source": [
    "## changing payment_type to categorical values\n",
    "data.loc[data.payment_type == 1, 'payment_type'] = 'Credit card'\n",
    "data.loc[data.payment_type == 2, 'payment_type'] = 'Cash'\n",
    "data.loc[data.payment_type == 3, 'payment_type'] = 'No charge'\n",
    "data.loc[data.payment_type == 4, 'payment_type'] = 'Dispute'\n",
    "data.loc[data.payment_type == 5, 'payment_type'] = 'Unknown'\n",
    "data.loc[data.payment_type == 6, 'payment_type'] = 'Voided trip'"
   ]
  },
  {
   "cell_type": "code",
   "execution_count": 32,
   "id": "033f4b52-270f-4497-b1be-f8d317e0863e",
   "metadata": {},
   "outputs": [
    {
     "data": {
      "text/plain": [
       "array(['Credit card', 'Cash', 'No charge', 'Dispute'], dtype=object)"
      ]
     },
     "execution_count": 32,
     "metadata": {},
     "output_type": "execute_result"
    }
   ],
   "source": [
    "data.payment_type.unique()"
   ]
  },
  {
   "cell_type": "code",
   "execution_count": 27,
   "id": "06403668-3830-4d6c-85da-e8cedc341727",
   "metadata": {},
   "outputs": [
    {
     "data": {
      "text/html": [
       "<div>\n",
       "<style scoped>\n",
       "    .dataframe tbody tr th:only-of-type {\n",
       "        vertical-align: middle;\n",
       "    }\n",
       "\n",
       "    .dataframe tbody tr th {\n",
       "        vertical-align: top;\n",
       "    }\n",
       "\n",
       "    .dataframe thead th {\n",
       "        text-align: right;\n",
       "    }\n",
       "</style>\n",
       "<table border=\"1\" class=\"dataframe\">\n",
       "  <thead>\n",
       "    <tr style=\"text-align: right;\">\n",
       "      <th></th>\n",
       "      <th>VendorID</th>\n",
       "      <th>tpep_pickup_datetime</th>\n",
       "      <th>tpep_dropoff_datetime</th>\n",
       "      <th>passenger_count</th>\n",
       "      <th>trip_distance</th>\n",
       "      <th>pickup_longitude</th>\n",
       "      <th>pickup_latitude</th>\n",
       "      <th>RatecodeID</th>\n",
       "      <th>store_and_fwd_flag</th>\n",
       "      <th>dropoff_longitude</th>\n",
       "      <th>dropoff_latitude</th>\n",
       "      <th>payment_type</th>\n",
       "      <th>fare_amount</th>\n",
       "      <th>extra</th>\n",
       "      <th>mta_tax</th>\n",
       "      <th>tip_amount</th>\n",
       "      <th>tolls_amount</th>\n",
       "      <th>improvement_surcharge</th>\n",
       "      <th>total_amount</th>\n",
       "    </tr>\n",
       "  </thead>\n",
       "  <tbody>\n",
       "    <tr>\n",
       "      <th>0</th>\n",
       "      <td>Creative Mobile Technologies</td>\n",
       "      <td>2016-01-03</td>\n",
       "      <td>2016-01-03 00:07:00</td>\n",
       "      <td>1</td>\n",
       "      <td>2.50</td>\n",
       "      <td>-73.976746</td>\n",
       "      <td>40.765152</td>\n",
       "      <td>Standard rate</td>\n",
       "      <td>N</td>\n",
       "      <td>-74.004265</td>\n",
       "      <td>40.746128</td>\n",
       "      <td>1</td>\n",
       "      <td>9.0</td>\n",
       "      <td>0.5</td>\n",
       "      <td>0.5</td>\n",
       "      <td>2.05</td>\n",
       "      <td>0.00</td>\n",
       "      <td>0.3</td>\n",
       "      <td>12.35</td>\n",
       "    </tr>\n",
       "    <tr>\n",
       "      <th>1</th>\n",
       "      <td>Creative Mobile Technologies</td>\n",
       "      <td>2016-01-03</td>\n",
       "      <td>2016-01-03 00:11:00</td>\n",
       "      <td>1</td>\n",
       "      <td>2.90</td>\n",
       "      <td>-73.983482</td>\n",
       "      <td>40.767925</td>\n",
       "      <td>Standard rate</td>\n",
       "      <td>N</td>\n",
       "      <td>-74.005943</td>\n",
       "      <td>40.733166</td>\n",
       "      <td>1</td>\n",
       "      <td>11.0</td>\n",
       "      <td>0.5</td>\n",
       "      <td>0.5</td>\n",
       "      <td>3.05</td>\n",
       "      <td>0.00</td>\n",
       "      <td>0.3</td>\n",
       "      <td>15.35</td>\n",
       "    </tr>\n",
       "    <tr>\n",
       "      <th>2</th>\n",
       "      <td>VeriFone Inc.</td>\n",
       "      <td>2016-01-03</td>\n",
       "      <td>2016-01-03 00:31:00</td>\n",
       "      <td>2</td>\n",
       "      <td>19.98</td>\n",
       "      <td>-73.782021</td>\n",
       "      <td>40.644810</td>\n",
       "      <td>Standard rate</td>\n",
       "      <td>N</td>\n",
       "      <td>-73.974541</td>\n",
       "      <td>40.675770</td>\n",
       "      <td>1</td>\n",
       "      <td>54.5</td>\n",
       "      <td>0.5</td>\n",
       "      <td>0.5</td>\n",
       "      <td>8.00</td>\n",
       "      <td>0.00</td>\n",
       "      <td>0.3</td>\n",
       "      <td>63.80</td>\n",
       "    </tr>\n",
       "    <tr>\n",
       "      <th>3</th>\n",
       "      <td>VeriFone Inc.</td>\n",
       "      <td>2016-01-03</td>\n",
       "      <td>2016-01-03 00:00:00</td>\n",
       "      <td>3</td>\n",
       "      <td>10.78</td>\n",
       "      <td>-73.863419</td>\n",
       "      <td>40.769814</td>\n",
       "      <td>Standard rate</td>\n",
       "      <td>N</td>\n",
       "      <td>-73.969650</td>\n",
       "      <td>40.757767</td>\n",
       "      <td>1</td>\n",
       "      <td>31.5</td>\n",
       "      <td>0.0</td>\n",
       "      <td>0.5</td>\n",
       "      <td>3.78</td>\n",
       "      <td>5.54</td>\n",
       "      <td>0.3</td>\n",
       "      <td>41.62</td>\n",
       "    </tr>\n",
       "    <tr>\n",
       "      <th>4</th>\n",
       "      <td>VeriFone Inc.</td>\n",
       "      <td>2016-01-03</td>\n",
       "      <td>2016-01-03 00:00:00</td>\n",
       "      <td>5</td>\n",
       "      <td>30.43</td>\n",
       "      <td>-73.971741</td>\n",
       "      <td>40.792183</td>\n",
       "      <td>Newark</td>\n",
       "      <td>N</td>\n",
       "      <td>-74.177170</td>\n",
       "      <td>40.695053</td>\n",
       "      <td>1</td>\n",
       "      <td>98.0</td>\n",
       "      <td>0.0</td>\n",
       "      <td>0.0</td>\n",
       "      <td>0.00</td>\n",
       "      <td>15.50</td>\n",
       "      <td>0.3</td>\n",
       "      <td>113.80</td>\n",
       "    </tr>\n",
       "  </tbody>\n",
       "</table>\n",
       "</div>"
      ],
      "text/plain": [
       "                       VendorID tpep_pickup_datetime tpep_dropoff_datetime  \\\n",
       "0  Creative Mobile Technologies           2016-01-03   2016-01-03 00:07:00   \n",
       "1  Creative Mobile Technologies           2016-01-03   2016-01-03 00:11:00   \n",
       "2                 VeriFone Inc.           2016-01-03   2016-01-03 00:31:00   \n",
       "3                 VeriFone Inc.           2016-01-03   2016-01-03 00:00:00   \n",
       "4                 VeriFone Inc.           2016-01-03   2016-01-03 00:00:00   \n",
       "\n",
       "   passenger_count  trip_distance  pickup_longitude  pickup_latitude  \\\n",
       "0                1           2.50        -73.976746        40.765152   \n",
       "1                1           2.90        -73.983482        40.767925   \n",
       "2                2          19.98        -73.782021        40.644810   \n",
       "3                3          10.78        -73.863419        40.769814   \n",
       "4                5          30.43        -73.971741        40.792183   \n",
       "\n",
       "      RatecodeID store_and_fwd_flag  dropoff_longitude  dropoff_latitude  \\\n",
       "0  Standard rate                  N         -74.004265         40.746128   \n",
       "1  Standard rate                  N         -74.005943         40.733166   \n",
       "2  Standard rate                  N         -73.974541         40.675770   \n",
       "3  Standard rate                  N         -73.969650         40.757767   \n",
       "4         Newark                  N         -74.177170         40.695053   \n",
       "\n",
       "   payment_type  fare_amount  extra  mta_tax  tip_amount  tolls_amount  \\\n",
       "0             1          9.0    0.5      0.5        2.05          0.00   \n",
       "1             1         11.0    0.5      0.5        3.05          0.00   \n",
       "2             1         54.5    0.5      0.5        8.00          0.00   \n",
       "3             1         31.5    0.0      0.5        3.78          5.54   \n",
       "4             1         98.0    0.0      0.0        0.00         15.50   \n",
       "\n",
       "   improvement_surcharge  total_amount  \n",
       "0                    0.3         12.35  \n",
       "1                    0.3         15.35  \n",
       "2                    0.3         63.80  \n",
       "3                    0.3         41.62  \n",
       "4                    0.3        113.80  "
      ]
     },
     "execution_count": 27,
     "metadata": {},
     "output_type": "execute_result"
    }
   ],
   "source": [
    "data.head()"
   ]
  },
  {
   "cell_type": "markdown",
   "id": "fba5da9f-6ac4-42f1-8cc7-c9c3ad23cde4",
   "metadata": {},
   "source": [
    "**`extra` - 1. Extra is calculated for 0.50 dollar for rush hour and  $1.0 for overnight charges**\n",
    "\n",
    "**`mta_tax` - 2. $0.50 MTA tax that is automatically triggered based on the metered \n",
    "rate in use.**\n",
    "\n",
    "**`improvement_surcharge` - 3. $0.30 improvement surcharge assessed trips at the flag drop**"
   ]
  },
  {
   "cell_type": "code",
   "execution_count": 35,
   "id": "d82b55d6-5746-49b6-9fc5-a90c9a57faa7",
   "metadata": {},
   "outputs": [
    {
     "data": {
      "text/plain": [
       " 0.0    79649\n",
       " 0.5    20313\n",
       "-0.5       19\n",
       " 1.0       18\n",
       " 4.5        1\n",
       "Name: extra, dtype: int64"
      ]
     },
     "execution_count": 35,
     "metadata": {},
     "output_type": "execute_result"
    }
   ],
   "source": [
    "## extra fares\n",
    "data.extra.value_counts()"
   ]
  },
  {
   "cell_type": "code",
   "execution_count": 37,
   "id": "538f26d7-4965-48d0-a49c-afbd68573bce",
   "metadata": {},
   "outputs": [
    {
     "data": {
      "text/plain": [
       " 0.5    99466\n",
       " 0.0      468\n",
       "-0.5       66\n",
       "Name: mta_tax, dtype: int64"
      ]
     },
     "execution_count": 37,
     "metadata": {},
     "output_type": "execute_result"
    }
   ],
   "source": [
    "## MTA taxes\n",
    "data.mta_tax.value_counts()"
   ]
  },
  {
   "cell_type": "code",
   "execution_count": 38,
   "id": "53e1709b-9f9d-4374-b610-980fb24eed55",
   "metadata": {},
   "outputs": [
    {
     "data": {
      "text/plain": [
       " 0.3    99902\n",
       "-0.3       70\n",
       " 0.0       28\n",
       "Name: improvement_surcharge, dtype: int64"
      ]
     },
     "execution_count": 38,
     "metadata": {},
     "output_type": "execute_result"
    }
   ],
   "source": [
    "## improvement_surcharge\n",
    "data.improvement_surcharge.value_counts()"
   ]
  },
  {
   "cell_type": "code",
   "execution_count": 51,
   "id": "7e8b07df-fef1-4077-bb03-f5ea43c2320e",
   "metadata": {},
   "outputs": [
    {
     "name": "stdout",
     "output_type": "stream",
     "text": [
      "<class 'pandas.core.frame.DataFrame'>\n",
      "RangeIndex: 100000 entries, 0 to 99999\n",
      "Data columns (total 19 columns):\n",
      " #   Column                 Non-Null Count   Dtype         \n",
      "---  ------                 --------------   -----         \n",
      " 0   VendorID               100000 non-null  object        \n",
      " 1   tpep_pickup_datetime   100000 non-null  datetime64[ns]\n",
      " 2   tpep_dropoff_datetime  100000 non-null  datetime64[ns]\n",
      " 3   passenger_count        100000 non-null  int64         \n",
      " 4   trip_distance          100000 non-null  float64       \n",
      " 5   pickup_longitude       100000 non-null  float64       \n",
      " 6   pickup_latitude        100000 non-null  float64       \n",
      " 7   RatecodeID             100000 non-null  object        \n",
      " 8   store_and_fwd_flag     100000 non-null  object        \n",
      " 9   dropoff_longitude      100000 non-null  float64       \n",
      " 10  dropoff_latitude       100000 non-null  float64       \n",
      " 11  payment_type           100000 non-null  object        \n",
      " 12  fare_amount            100000 non-null  float64       \n",
      " 13  extra                  100000 non-null  float64       \n",
      " 14  mta_tax                100000 non-null  float64       \n",
      " 15  tip_amount             100000 non-null  float64       \n",
      " 16  tolls_amount           100000 non-null  float64       \n",
      " 17  improvement_surcharge  100000 non-null  float64       \n",
      " 18  total_amount           100000 non-null  float64       \n",
      "dtypes: datetime64[ns](2), float64(12), int64(1), object(4)\n",
      "memory usage: 14.5+ MB\n"
     ]
    }
   ],
   "source": [
    "data.info()"
   ]
  },
  {
   "cell_type": "code",
   "execution_count": 52,
   "id": "62e81807-1cd9-4c52-8865-bdc64053da2c",
   "metadata": {},
   "outputs": [],
   "source": [
    "data.to_csv(r\"C:\\Users\\saiba\\OneDrive - nsut.ac.in\\Uber Data Analysis\\data\\UBER_DATA_update.csv\")"
   ]
  },
  {
   "cell_type": "code",
   "execution_count": null,
   "id": "b7da89e1-5ca2-4cbd-ba95-8192acd4137e",
   "metadata": {},
   "outputs": [],
   "source": []
  },
  {
   "cell_type": "markdown",
   "id": "8c05dcf8-12d4-4823-aa85-942ea27a0bbf",
   "metadata": {},
   "source": [
    "![https://github.com/darshilparmar/uber-etl-pipeline-data-engineering-project/blob/main/data_model.jpeg?raw=true](https://github.com/darshilparmar/uber-etl-pipeline-data-engineering-project/blob/main/data_model.jpeg?raw=true)"
   ]
  },
  {
   "cell_type": "code",
   "execution_count": 39,
   "id": "ada3c6eb-f3cb-48d4-aae0-14383da0fb26",
   "metadata": {},
   "outputs": [],
   "source": [
    "data_parquet = pd.read_parquet(r\"C:\\Users\\saiba\\OneDrive - nsut.ac.in\\Uber Data Analysis\\data\\yellow_tripdata_2023-01.parquet\", engine = 'pyarrow')"
   ]
  },
  {
   "cell_type": "code",
   "execution_count": 43,
   "id": "55c3958c-3c3e-42fc-9c84-66a48ff4896d",
   "metadata": {},
   "outputs": [
    {
     "data": {
      "text/html": [
       "<div>\n",
       "<style scoped>\n",
       "    .dataframe tbody tr th:only-of-type {\n",
       "        vertical-align: middle;\n",
       "    }\n",
       "\n",
       "    .dataframe tbody tr th {\n",
       "        vertical-align: top;\n",
       "    }\n",
       "\n",
       "    .dataframe thead th {\n",
       "        text-align: right;\n",
       "    }\n",
       "</style>\n",
       "<table border=\"1\" class=\"dataframe\">\n",
       "  <thead>\n",
       "    <tr style=\"text-align: right;\">\n",
       "      <th></th>\n",
       "      <th>VendorID</th>\n",
       "      <th>tpep_pickup_datetime</th>\n",
       "      <th>tpep_dropoff_datetime</th>\n",
       "      <th>passenger_count</th>\n",
       "      <th>trip_distance</th>\n",
       "      <th>RatecodeID</th>\n",
       "      <th>store_and_fwd_flag</th>\n",
       "      <th>PULocationID</th>\n",
       "      <th>DOLocationID</th>\n",
       "      <th>payment_type</th>\n",
       "      <th>fare_amount</th>\n",
       "      <th>extra</th>\n",
       "      <th>mta_tax</th>\n",
       "      <th>tip_amount</th>\n",
       "      <th>tolls_amount</th>\n",
       "      <th>improvement_surcharge</th>\n",
       "      <th>total_amount</th>\n",
       "      <th>congestion_surcharge</th>\n",
       "      <th>airport_fee</th>\n",
       "    </tr>\n",
       "  </thead>\n",
       "  <tbody>\n",
       "    <tr>\n",
       "      <th>0</th>\n",
       "      <td>2</td>\n",
       "      <td>2023-01-01 00:32:10</td>\n",
       "      <td>2023-01-01 00:40:36</td>\n",
       "      <td>1.0</td>\n",
       "      <td>0.97</td>\n",
       "      <td>1.0</td>\n",
       "      <td>N</td>\n",
       "      <td>161</td>\n",
       "      <td>141</td>\n",
       "      <td>2</td>\n",
       "      <td>9.3</td>\n",
       "      <td>1.00</td>\n",
       "      <td>0.5</td>\n",
       "      <td>0.00</td>\n",
       "      <td>0.0</td>\n",
       "      <td>1.0</td>\n",
       "      <td>14.30</td>\n",
       "      <td>2.5</td>\n",
       "      <td>0.00</td>\n",
       "    </tr>\n",
       "    <tr>\n",
       "      <th>1</th>\n",
       "      <td>2</td>\n",
       "      <td>2023-01-01 00:55:08</td>\n",
       "      <td>2023-01-01 01:01:27</td>\n",
       "      <td>1.0</td>\n",
       "      <td>1.10</td>\n",
       "      <td>1.0</td>\n",
       "      <td>N</td>\n",
       "      <td>43</td>\n",
       "      <td>237</td>\n",
       "      <td>1</td>\n",
       "      <td>7.9</td>\n",
       "      <td>1.00</td>\n",
       "      <td>0.5</td>\n",
       "      <td>4.00</td>\n",
       "      <td>0.0</td>\n",
       "      <td>1.0</td>\n",
       "      <td>16.90</td>\n",
       "      <td>2.5</td>\n",
       "      <td>0.00</td>\n",
       "    </tr>\n",
       "    <tr>\n",
       "      <th>2</th>\n",
       "      <td>2</td>\n",
       "      <td>2023-01-01 00:25:04</td>\n",
       "      <td>2023-01-01 00:37:49</td>\n",
       "      <td>1.0</td>\n",
       "      <td>2.51</td>\n",
       "      <td>1.0</td>\n",
       "      <td>N</td>\n",
       "      <td>48</td>\n",
       "      <td>238</td>\n",
       "      <td>1</td>\n",
       "      <td>14.9</td>\n",
       "      <td>1.00</td>\n",
       "      <td>0.5</td>\n",
       "      <td>15.00</td>\n",
       "      <td>0.0</td>\n",
       "      <td>1.0</td>\n",
       "      <td>34.90</td>\n",
       "      <td>2.5</td>\n",
       "      <td>0.00</td>\n",
       "    </tr>\n",
       "    <tr>\n",
       "      <th>3</th>\n",
       "      <td>1</td>\n",
       "      <td>2023-01-01 00:03:48</td>\n",
       "      <td>2023-01-01 00:13:25</td>\n",
       "      <td>0.0</td>\n",
       "      <td>1.90</td>\n",
       "      <td>1.0</td>\n",
       "      <td>N</td>\n",
       "      <td>138</td>\n",
       "      <td>7</td>\n",
       "      <td>1</td>\n",
       "      <td>12.1</td>\n",
       "      <td>7.25</td>\n",
       "      <td>0.5</td>\n",
       "      <td>0.00</td>\n",
       "      <td>0.0</td>\n",
       "      <td>1.0</td>\n",
       "      <td>20.85</td>\n",
       "      <td>0.0</td>\n",
       "      <td>1.25</td>\n",
       "    </tr>\n",
       "    <tr>\n",
       "      <th>4</th>\n",
       "      <td>2</td>\n",
       "      <td>2023-01-01 00:10:29</td>\n",
       "      <td>2023-01-01 00:21:19</td>\n",
       "      <td>1.0</td>\n",
       "      <td>1.43</td>\n",
       "      <td>1.0</td>\n",
       "      <td>N</td>\n",
       "      <td>107</td>\n",
       "      <td>79</td>\n",
       "      <td>1</td>\n",
       "      <td>11.4</td>\n",
       "      <td>1.00</td>\n",
       "      <td>0.5</td>\n",
       "      <td>3.28</td>\n",
       "      <td>0.0</td>\n",
       "      <td>1.0</td>\n",
       "      <td>19.68</td>\n",
       "      <td>2.5</td>\n",
       "      <td>0.00</td>\n",
       "    </tr>\n",
       "    <tr>\n",
       "      <th>5</th>\n",
       "      <td>2</td>\n",
       "      <td>2023-01-01 00:50:34</td>\n",
       "      <td>2023-01-01 01:02:52</td>\n",
       "      <td>1.0</td>\n",
       "      <td>1.84</td>\n",
       "      <td>1.0</td>\n",
       "      <td>N</td>\n",
       "      <td>161</td>\n",
       "      <td>137</td>\n",
       "      <td>1</td>\n",
       "      <td>12.8</td>\n",
       "      <td>1.00</td>\n",
       "      <td>0.5</td>\n",
       "      <td>10.00</td>\n",
       "      <td>0.0</td>\n",
       "      <td>1.0</td>\n",
       "      <td>27.80</td>\n",
       "      <td>2.5</td>\n",
       "      <td>0.00</td>\n",
       "    </tr>\n",
       "    <tr>\n",
       "      <th>6</th>\n",
       "      <td>2</td>\n",
       "      <td>2023-01-01 00:09:22</td>\n",
       "      <td>2023-01-01 00:19:49</td>\n",
       "      <td>1.0</td>\n",
       "      <td>1.66</td>\n",
       "      <td>1.0</td>\n",
       "      <td>N</td>\n",
       "      <td>239</td>\n",
       "      <td>143</td>\n",
       "      <td>1</td>\n",
       "      <td>12.1</td>\n",
       "      <td>1.00</td>\n",
       "      <td>0.5</td>\n",
       "      <td>3.42</td>\n",
       "      <td>0.0</td>\n",
       "      <td>1.0</td>\n",
       "      <td>20.52</td>\n",
       "      <td>2.5</td>\n",
       "      <td>0.00</td>\n",
       "    </tr>\n",
       "    <tr>\n",
       "      <th>7</th>\n",
       "      <td>2</td>\n",
       "      <td>2023-01-01 00:27:12</td>\n",
       "      <td>2023-01-01 00:49:56</td>\n",
       "      <td>1.0</td>\n",
       "      <td>11.70</td>\n",
       "      <td>1.0</td>\n",
       "      <td>N</td>\n",
       "      <td>142</td>\n",
       "      <td>200</td>\n",
       "      <td>1</td>\n",
       "      <td>45.7</td>\n",
       "      <td>1.00</td>\n",
       "      <td>0.5</td>\n",
       "      <td>10.74</td>\n",
       "      <td>3.0</td>\n",
       "      <td>1.0</td>\n",
       "      <td>64.44</td>\n",
       "      <td>2.5</td>\n",
       "      <td>0.00</td>\n",
       "    </tr>\n",
       "    <tr>\n",
       "      <th>8</th>\n",
       "      <td>2</td>\n",
       "      <td>2023-01-01 00:21:44</td>\n",
       "      <td>2023-01-01 00:36:40</td>\n",
       "      <td>1.0</td>\n",
       "      <td>2.95</td>\n",
       "      <td>1.0</td>\n",
       "      <td>N</td>\n",
       "      <td>164</td>\n",
       "      <td>236</td>\n",
       "      <td>1</td>\n",
       "      <td>17.7</td>\n",
       "      <td>1.00</td>\n",
       "      <td>0.5</td>\n",
       "      <td>5.68</td>\n",
       "      <td>0.0</td>\n",
       "      <td>1.0</td>\n",
       "      <td>28.38</td>\n",
       "      <td>2.5</td>\n",
       "      <td>0.00</td>\n",
       "    </tr>\n",
       "    <tr>\n",
       "      <th>9</th>\n",
       "      <td>2</td>\n",
       "      <td>2023-01-01 00:39:42</td>\n",
       "      <td>2023-01-01 00:50:36</td>\n",
       "      <td>1.0</td>\n",
       "      <td>3.01</td>\n",
       "      <td>1.0</td>\n",
       "      <td>N</td>\n",
       "      <td>141</td>\n",
       "      <td>107</td>\n",
       "      <td>2</td>\n",
       "      <td>14.9</td>\n",
       "      <td>1.00</td>\n",
       "      <td>0.5</td>\n",
       "      <td>0.00</td>\n",
       "      <td>0.0</td>\n",
       "      <td>1.0</td>\n",
       "      <td>19.90</td>\n",
       "      <td>2.5</td>\n",
       "      <td>0.00</td>\n",
       "    </tr>\n",
       "  </tbody>\n",
       "</table>\n",
       "</div>"
      ],
      "text/plain": [
       "   VendorID tpep_pickup_datetime tpep_dropoff_datetime  passenger_count  \\\n",
       "0         2  2023-01-01 00:32:10   2023-01-01 00:40:36              1.0   \n",
       "1         2  2023-01-01 00:55:08   2023-01-01 01:01:27              1.0   \n",
       "2         2  2023-01-01 00:25:04   2023-01-01 00:37:49              1.0   \n",
       "3         1  2023-01-01 00:03:48   2023-01-01 00:13:25              0.0   \n",
       "4         2  2023-01-01 00:10:29   2023-01-01 00:21:19              1.0   \n",
       "5         2  2023-01-01 00:50:34   2023-01-01 01:02:52              1.0   \n",
       "6         2  2023-01-01 00:09:22   2023-01-01 00:19:49              1.0   \n",
       "7         2  2023-01-01 00:27:12   2023-01-01 00:49:56              1.0   \n",
       "8         2  2023-01-01 00:21:44   2023-01-01 00:36:40              1.0   \n",
       "9         2  2023-01-01 00:39:42   2023-01-01 00:50:36              1.0   \n",
       "\n",
       "   trip_distance  RatecodeID store_and_fwd_flag  PULocationID  DOLocationID  \\\n",
       "0           0.97         1.0                  N           161           141   \n",
       "1           1.10         1.0                  N            43           237   \n",
       "2           2.51         1.0                  N            48           238   \n",
       "3           1.90         1.0                  N           138             7   \n",
       "4           1.43         1.0                  N           107            79   \n",
       "5           1.84         1.0                  N           161           137   \n",
       "6           1.66         1.0                  N           239           143   \n",
       "7          11.70         1.0                  N           142           200   \n",
       "8           2.95         1.0                  N           164           236   \n",
       "9           3.01         1.0                  N           141           107   \n",
       "\n",
       "   payment_type  fare_amount  extra  mta_tax  tip_amount  tolls_amount  \\\n",
       "0             2          9.3   1.00      0.5        0.00           0.0   \n",
       "1             1          7.9   1.00      0.5        4.00           0.0   \n",
       "2             1         14.9   1.00      0.5       15.00           0.0   \n",
       "3             1         12.1   7.25      0.5        0.00           0.0   \n",
       "4             1         11.4   1.00      0.5        3.28           0.0   \n",
       "5             1         12.8   1.00      0.5       10.00           0.0   \n",
       "6             1         12.1   1.00      0.5        3.42           0.0   \n",
       "7             1         45.7   1.00      0.5       10.74           3.0   \n",
       "8             1         17.7   1.00      0.5        5.68           0.0   \n",
       "9             2         14.9   1.00      0.5        0.00           0.0   \n",
       "\n",
       "   improvement_surcharge  total_amount  congestion_surcharge  airport_fee  \n",
       "0                    1.0         14.30                   2.5         0.00  \n",
       "1                    1.0         16.90                   2.5         0.00  \n",
       "2                    1.0         34.90                   2.5         0.00  \n",
       "3                    1.0         20.85                   0.0         1.25  \n",
       "4                    1.0         19.68                   2.5         0.00  \n",
       "5                    1.0         27.80                   2.5         0.00  \n",
       "6                    1.0         20.52                   2.5         0.00  \n",
       "7                    1.0         64.44                   2.5         0.00  \n",
       "8                    1.0         28.38                   2.5         0.00  \n",
       "9                    1.0         19.90                   2.5         0.00  "
      ]
     },
     "execution_count": 43,
     "metadata": {},
     "output_type": "execute_result"
    }
   ],
   "source": [
    "data_parquet.head(10)"
   ]
  },
  {
   "cell_type": "code",
   "execution_count": 41,
   "id": "edef6995-479d-4109-ac19-6aee2e1cee7f",
   "metadata": {},
   "outputs": [
    {
     "data": {
      "text/plain": [
       "(3066766, 19)"
      ]
     },
     "execution_count": 41,
     "metadata": {},
     "output_type": "execute_result"
    }
   ],
   "source": [
    "data_parquet.shape"
   ]
  },
  {
   "cell_type": "code",
   "execution_count": 42,
   "id": "0a791b57-7cf1-4d33-a568-345c1db854fa",
   "metadata": {},
   "outputs": [
    {
     "name": "stdout",
     "output_type": "stream",
     "text": [
      "<class 'pandas.core.frame.DataFrame'>\n",
      "RangeIndex: 3066766 entries, 0 to 3066765\n",
      "Data columns (total 19 columns):\n",
      " #   Column                 Dtype         \n",
      "---  ------                 -----         \n",
      " 0   VendorID               int64         \n",
      " 1   tpep_pickup_datetime   datetime64[ns]\n",
      " 2   tpep_dropoff_datetime  datetime64[ns]\n",
      " 3   passenger_count        float64       \n",
      " 4   trip_distance          float64       \n",
      " 5   RatecodeID             float64       \n",
      " 6   store_and_fwd_flag     object        \n",
      " 7   PULocationID           int64         \n",
      " 8   DOLocationID           int64         \n",
      " 9   payment_type           int64         \n",
      " 10  fare_amount            float64       \n",
      " 11  extra                  float64       \n",
      " 12  mta_tax                float64       \n",
      " 13  tip_amount             float64       \n",
      " 14  tolls_amount           float64       \n",
      " 15  improvement_surcharge  float64       \n",
      " 16  total_amount           float64       \n",
      " 17  congestion_surcharge   float64       \n",
      " 18  airport_fee            float64       \n",
      "dtypes: datetime64[ns](2), float64(12), int64(4), object(1)\n",
      "memory usage: 444.6+ MB\n"
     ]
    }
   ],
   "source": [
    "data_parquet.info()"
   ]
  },
  {
   "cell_type": "code",
   "execution_count": 46,
   "id": "02610e72-aebf-4c96-b7fc-7f707ce3952b",
   "metadata": {},
   "outputs": [
    {
     "data": {
      "text/plain": [
       "132    160030\n",
       "237    148074\n",
       "236    138391\n",
       "161    135417\n",
       "186    109227\n",
       "162    105334\n",
       "142    100228\n",
       "230     98991\n",
       "138     89188\n",
       "170     88346\n",
       "Name: PULocationID, dtype: int64"
      ]
     },
     "execution_count": 46,
     "metadata": {},
     "output_type": "execute_result"
    }
   ],
   "source": [
    "data_parquet.PULocationID.value_counts()[:10]"
   ]
  },
  {
   "cell_type": "code",
   "execution_count": 47,
   "id": "d237c6de-e68d-44c5-8cd9-3a4931c1a298",
   "metadata": {},
   "outputs": [
    {
     "data": {
      "text/plain": [
       "236    146348\n",
       "237    132364\n",
       "161    116149\n",
       "230     89878\n",
       "170     88783\n",
       "239     87969\n",
       "142     87969\n",
       "141     87655\n",
       "162     82739\n",
       "48      77383\n",
       "Name: DOLocationID, dtype: int64"
      ]
     },
     "execution_count": 47,
     "metadata": {},
     "output_type": "execute_result"
    }
   ],
   "source": [
    "data_parquet.DOLocationID.value_counts()[:10]"
   ]
  },
  {
   "cell_type": "code",
   "execution_count": 50,
   "id": "91158ca1-f0d5-418c-acba-26446f131313",
   "metadata": {},
   "outputs": [
    {
     "data": {
      "text/plain": [
       "(257, 261)"
      ]
     },
     "execution_count": 50,
     "metadata": {},
     "output_type": "execute_result"
    }
   ],
   "source": [
    "data_parquet.PULocationID.nunique(), data_parquet.DOLocationID.nunique()"
   ]
  },
  {
   "cell_type": "code",
   "execution_count": null,
   "id": "d81699af-67bf-41f2-9d4c-a2c72cfa9939",
   "metadata": {},
   "outputs": [],
   "source": []
  }
 ],
 "metadata": {
  "kernelspec": {
   "display_name": "Python 3 (ipykernel)",
   "language": "python",
   "name": "python3"
  },
  "language_info": {
   "codemirror_mode": {
    "name": "ipython",
    "version": 3
   },
   "file_extension": ".py",
   "mimetype": "text/x-python",
   "name": "python",
   "nbconvert_exporter": "python",
   "pygments_lexer": "ipython3",
   "version": "3.10.9"
  }
 },
 "nbformat": 4,
 "nbformat_minor": 5
}
